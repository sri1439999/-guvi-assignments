{
 "cells": [
  {
   "cell_type": "code",
   "execution_count": 1,
   "id": "2b11cc8d",
   "metadata": {},
   "outputs": [
    {
     "name": "stdout",
     "output_type": "stream",
     "text": [
      "Requirement already satisfied: pandas in c:\\python\\lib\\site-packages (1.4.3)\n",
      "Requirement already satisfied: pytz>=2020.1 in c:\\python\\lib\\site-packages (from pandas) (2022.2.1)\n",
      "Requirement already satisfied: python-dateutil>=2.8.1 in c:\\python\\lib\\site-packages (from pandas) (2.8.2)\n",
      "Requirement already satisfied: numpy>=1.21.0 in c:\\python\\lib\\site-packages (from pandas) (1.23.2)\n",
      "Requirement already satisfied: six>=1.5 in c:\\python\\lib\\site-packages (from python-dateutil>=2.8.1->pandas) (1.16.0)\n"
     ]
    },
    {
     "name": "stderr",
     "output_type": "stream",
     "text": [
      "\n",
      "[notice] A new release of pip available: 22.2.2 -> 22.3\n",
      "[notice] To update, run: python.exe -m pip install --upgrade pip\n"
     ]
    }
   ],
   "source": [
    "!pip install pandas #installing pandas\n"
   ]
  },
  {
   "cell_type": "code",
   "execution_count": 3,
   "id": "c19f657e",
   "metadata": {},
   "outputs": [],
   "source": [
    "import pandas as pd #imorting pandas and numpy libreies\n",
    "import numpy as np"
   ]
  },
  {
   "cell_type": "markdown",
   "id": "a65adcf4",
   "metadata": {},
   "source": [
    "# TASK 1 (YOUTUBE VIDEO)"
   ]
  },
  {
   "cell_type": "code",
   "execution_count": 4,
   "id": "2dc4db26",
   "metadata": {},
   "outputs": [],
   "source": [
    "ca_df = pd.read_csv(\"E:\\\\GUVI\\\\ASSIGNMENTS\\\\assignment 3\\\\data sets\\\\Extracted\\\\CAvideos.csv\")  #reading  canada csv\n",
    " "
   ]
  },
  {
   "cell_type": "code",
   "execution_count": 5,
   "id": "27bb58b6",
   "metadata": {},
   "outputs": [],
   "source": [
    "for x in ca_df.index:                           #arranging the wrong values into catagory range value using for loop as 1 to 31\n",
    "    if ca_df.loc[x, \"category_id\"] >30:\n",
    "        ca_df.loc[x, \"category_id\"] = 31\n",
    "        \n",
    "for x in ca_df.index:\n",
    "    if ca_df.loc[x, \"category_id\"] <1:\n",
    "        ca_df.loc[x, \"category_id\"] = 1\n",
    "        \n",
    "        "
   ]
  },
  {
   "cell_type": "code",
   "execution_count": 6,
   "id": "76a9e5dc",
   "metadata": {},
   "outputs": [
    {
     "data": {
      "text/html": [
       "<div>\n",
       "<style scoped>\n",
       "    .dataframe tbody tr th:only-of-type {\n",
       "        vertical-align: middle;\n",
       "    }\n",
       "\n",
       "    .dataframe tbody tr th {\n",
       "        vertical-align: top;\n",
       "    }\n",
       "\n",
       "    .dataframe thead th {\n",
       "        text-align: right;\n",
       "    }\n",
       "</style>\n",
       "<table border=\"1\" class=\"dataframe\">\n",
       "  <thead>\n",
       "    <tr style=\"text-align: right;\">\n",
       "      <th></th>\n",
       "      <th>video_id</th>\n",
       "      <th>trending_date</th>\n",
       "      <th>title</th>\n",
       "      <th>channel_title</th>\n",
       "      <th>category_id</th>\n",
       "      <th>publish_time</th>\n",
       "      <th>tags</th>\n",
       "      <th>views</th>\n",
       "      <th>likes</th>\n",
       "      <th>dislikes</th>\n",
       "      <th>comment_count</th>\n",
       "      <th>thumbnail_link</th>\n",
       "      <th>comments_disabled</th>\n",
       "      <th>ratings_disabled</th>\n",
       "      <th>video_error_or_removed</th>\n",
       "      <th>description</th>\n",
       "    </tr>\n",
       "  </thead>\n",
       "  <tbody>\n",
       "  </tbody>\n",
       "</table>\n",
       "</div>"
      ],
      "text/plain": [
       "Empty DataFrame\n",
       "Columns: [video_id, trending_date, title, channel_title, category_id, publish_time, tags, views, likes, dislikes, comment_count, thumbnail_link, comments_disabled, ratings_disabled, video_error_or_removed, description]\n",
       "Index: []"
      ]
     },
     "execution_count": 6,
     "metadata": {},
     "output_type": "execute_result"
    }
   ],
   "source": [
    "ca_df[ca_df['category_id']>31]  #verifing the values above 31"
   ]
  },
  {
   "cell_type": "code",
   "execution_count": 7,
   "id": "a17b3f1f",
   "metadata": {},
   "outputs": [
    {
     "data": {
      "text/html": [
       "<div>\n",
       "<style scoped>\n",
       "    .dataframe tbody tr th:only-of-type {\n",
       "        vertical-align: middle;\n",
       "    }\n",
       "\n",
       "    .dataframe tbody tr th {\n",
       "        vertical-align: top;\n",
       "    }\n",
       "\n",
       "    .dataframe thead th {\n",
       "        text-align: right;\n",
       "    }\n",
       "</style>\n",
       "<table border=\"1\" class=\"dataframe\">\n",
       "  <thead>\n",
       "    <tr style=\"text-align: right;\">\n",
       "      <th></th>\n",
       "      <th>video_id</th>\n",
       "      <th>trending_date</th>\n",
       "      <th>title</th>\n",
       "      <th>channel_title</th>\n",
       "      <th>category_id</th>\n",
       "      <th>publish_time</th>\n",
       "      <th>tags</th>\n",
       "      <th>views</th>\n",
       "      <th>likes</th>\n",
       "      <th>dislikes</th>\n",
       "      <th>comment_count</th>\n",
       "      <th>thumbnail_link</th>\n",
       "      <th>comments_disabled</th>\n",
       "      <th>ratings_disabled</th>\n",
       "      <th>video_error_or_removed</th>\n",
       "      <th>description</th>\n",
       "    </tr>\n",
       "  </thead>\n",
       "  <tbody>\n",
       "  </tbody>\n",
       "</table>\n",
       "</div>"
      ],
      "text/plain": [
       "Empty DataFrame\n",
       "Columns: [video_id, trending_date, title, channel_title, category_id, publish_time, tags, views, likes, dislikes, comment_count, thumbnail_link, comments_disabled, ratings_disabled, video_error_or_removed, description]\n",
       "Index: []"
      ]
     },
     "execution_count": 7,
     "metadata": {},
     "output_type": "execute_result"
    }
   ],
   "source": [
    "ca_df[ca_df['category_id']<1]  #verifing the values below 1"
   ]
  },
  {
   "cell_type": "code",
   "execution_count": 8,
   "id": "36b40a62",
   "metadata": {},
   "outputs": [],
   "source": [
    "caj = pd.read_json('E:\\\\GUVI\\\\ASSIGNMENTS\\\\assignment 3\\\\data sets\\\\json\\\\CA_category_id.json') #reading canada json file"
   ]
  },
  {
   "cell_type": "code",
   "execution_count": 9,
   "id": "94077830",
   "metadata": {},
   "outputs": [],
   "source": [
    "caj['category_id']=np.arange(1,32)               #creating column with category_id"
   ]
  },
  {
   "cell_type": "code",
   "execution_count": 10,
   "id": "87326332",
   "metadata": {},
   "outputs": [],
   "source": [
    "f1 = ca_df.merge(caj,on='category_id',how = 'outer')  #merging the csv dataframe and json dataframe nad saving to f1 variable"
   ]
  },
  {
   "cell_type": "code",
   "execution_count": 11,
   "id": "1a2ce333",
   "metadata": {},
   "outputs": [],
   "source": [
    "# repeating all the steps for remaining 9 regions "
   ]
  },
  {
   "cell_type": "code",
   "execution_count": 12,
   "id": "095acfda",
   "metadata": {},
   "outputs": [],
   "source": [
    "de_df = pd.read_csv(\"E:\\\\GUVI\\\\ASSIGNMENTS\\\\assignment 3\\\\data sets\\\\Extracted\\\\DEvideos.csv\")"
   ]
  },
  {
   "cell_type": "code",
   "execution_count": 13,
   "id": "ceadd41a",
   "metadata": {},
   "outputs": [],
   "source": [
    "for x in de_df.index:\n",
    "    if de_df.loc[x, \"category_id\"] >30:\n",
    "        de_df.loc[x, \"category_id\"] = 31\n",
    "        \n",
    "for x in de_df.index:\n",
    "    if de_df.loc[x, \"category_id\"] <1:\n",
    "        de_df.loc[x, \"category_id\"] = 1"
   ]
  },
  {
   "cell_type": "code",
   "execution_count": 14,
   "id": "c8d1aa5d",
   "metadata": {},
   "outputs": [
    {
     "data": {
      "text/html": [
       "<div>\n",
       "<style scoped>\n",
       "    .dataframe tbody tr th:only-of-type {\n",
       "        vertical-align: middle;\n",
       "    }\n",
       "\n",
       "    .dataframe tbody tr th {\n",
       "        vertical-align: top;\n",
       "    }\n",
       "\n",
       "    .dataframe thead th {\n",
       "        text-align: right;\n",
       "    }\n",
       "</style>\n",
       "<table border=\"1\" class=\"dataframe\">\n",
       "  <thead>\n",
       "    <tr style=\"text-align: right;\">\n",
       "      <th></th>\n",
       "      <th>video_id</th>\n",
       "      <th>trending_date</th>\n",
       "      <th>title</th>\n",
       "      <th>channel_title</th>\n",
       "      <th>category_id</th>\n",
       "      <th>publish_time</th>\n",
       "      <th>tags</th>\n",
       "      <th>views</th>\n",
       "      <th>likes</th>\n",
       "      <th>dislikes</th>\n",
       "      <th>comment_count</th>\n",
       "      <th>thumbnail_link</th>\n",
       "      <th>comments_disabled</th>\n",
       "      <th>ratings_disabled</th>\n",
       "      <th>video_error_or_removed</th>\n",
       "      <th>description</th>\n",
       "    </tr>\n",
       "  </thead>\n",
       "  <tbody>\n",
       "  </tbody>\n",
       "</table>\n",
       "</div>"
      ],
      "text/plain": [
       "Empty DataFrame\n",
       "Columns: [video_id, trending_date, title, channel_title, category_id, publish_time, tags, views, likes, dislikes, comment_count, thumbnail_link, comments_disabled, ratings_disabled, video_error_or_removed, description]\n",
       "Index: []"
      ]
     },
     "execution_count": 14,
     "metadata": {},
     "output_type": "execute_result"
    }
   ],
   "source": [
    "de_df[de_df['category_id']<1]"
   ]
  },
  {
   "cell_type": "code",
   "execution_count": 15,
   "id": "6d64a123",
   "metadata": {},
   "outputs": [],
   "source": [
    "dej = pd.read_json('E:\\\\GUVI\\\\ASSIGNMENTS\\\\assignment 3\\\\data sets\\\\json\\\\DE_category_id.json')\n"
   ]
  },
  {
   "cell_type": "code",
   "execution_count": 16,
   "id": "68753bbe",
   "metadata": {},
   "outputs": [],
   "source": [
    "dej['category_id']=np.arange(1,32)"
   ]
  },
  {
   "cell_type": "code",
   "execution_count": 17,
   "id": "2fa82001",
   "metadata": {},
   "outputs": [],
   "source": [
    "f2 = de_df.merge(dej,on='category_id',how='outer')"
   ]
  },
  {
   "cell_type": "code",
   "execution_count": 18,
   "id": "dfd20863",
   "metadata": {},
   "outputs": [],
   "source": [
    "fr_df = pd.read_csv(\"E:\\\\GUVI\\\\ASSIGNMENTS\\\\assignment 3\\\\data sets\\\\Extracted\\\\FRvideos.csv\")"
   ]
  },
  {
   "cell_type": "code",
   "execution_count": 19,
   "id": "b0303d9d",
   "metadata": {},
   "outputs": [],
   "source": [
    "for x in fr_df.index:\n",
    "    if fr_df.loc[x, \"category_id\"] >30:\n",
    "        fr_df.loc[x, \"category_id\"] = 31\n",
    "        \n",
    "for x in fr_df.index:\n",
    "    if fr_df.loc[x, \"category_id\"] <1:\n",
    "        fr_df.loc[x, \"category_id\"] = 1\n",
    "    "
   ]
  },
  {
   "cell_type": "code",
   "execution_count": 20,
   "id": "34dfba6f",
   "metadata": {},
   "outputs": [],
   "source": [
    "frj = pd.read_json('E:\\\\GUVI\\\\ASSIGNMENTS\\\\assignment 3\\\\data sets\\\\json\\\\FR_category_id.json')\n"
   ]
  },
  {
   "cell_type": "code",
   "execution_count": 21,
   "id": "71e0a398",
   "metadata": {},
   "outputs": [],
   "source": [
    "frj['category_id']=np.arange(1,32)"
   ]
  },
  {
   "cell_type": "code",
   "execution_count": 22,
   "id": "81b8df85",
   "metadata": {},
   "outputs": [],
   "source": [
    "f3 = fr_df.merge(frj,on='category_id',how='outer')"
   ]
  },
  {
   "cell_type": "code",
   "execution_count": 23,
   "id": "b0f95a1f",
   "metadata": {},
   "outputs": [],
   "source": [
    "gb_df = pd.read_csv(\"E:\\\\GUVI\\\\ASSIGNMENTS\\\\assignment 3\\\\data sets\\\\Extracted\\\\GBvideos.csv\")\n"
   ]
  },
  {
   "cell_type": "code",
   "execution_count": 24,
   "id": "9e3b6370",
   "metadata": {},
   "outputs": [],
   "source": [
    "for x in gb_df.index:\n",
    "    if gb_df.loc[x, \"category_id\"] >30:\n",
    "        gb_df.loc[x, \"category_id\"] = 31\n",
    "        \n",
    "for x in gb_df.index:\n",
    "    if gb_df.loc[x, \"category_id\"] <1:\n",
    "        gb_df.loc[x, \"category_id\"] = 1\n",
    "\n",
    "        "
   ]
  },
  {
   "cell_type": "code",
   "execution_count": 25,
   "id": "35c86d71",
   "metadata": {},
   "outputs": [],
   "source": [
    "gbj = pd.read_json('E:\\\\GUVI\\\\ASSIGNMENTS\\\\assignment 3\\\\data sets\\\\json\\\\GB_category_id.json')"
   ]
  },
  {
   "cell_type": "code",
   "execution_count": 26,
   "id": "da7a6f36",
   "metadata": {},
   "outputs": [],
   "source": [
    "gbj['category_id']=np.arange(1,32)"
   ]
  },
  {
   "cell_type": "code",
   "execution_count": 27,
   "id": "d9f85858",
   "metadata": {},
   "outputs": [],
   "source": [
    "f4 = gb_df.merge(gbj,on='category_id',how='outer')"
   ]
  },
  {
   "cell_type": "code",
   "execution_count": 28,
   "id": "17b7d4c6",
   "metadata": {},
   "outputs": [],
   "source": [
    "in_df = pd.read_csv(\"E:\\\\GUVI\\\\ASSIGNMENTS\\\\assignment 3\\\\data sets\\\\Extracted\\\\INvideos.csv\")\n"
   ]
  },
  {
   "cell_type": "code",
   "execution_count": 29,
   "id": "380bc255",
   "metadata": {},
   "outputs": [],
   "source": [
    "for x in in_df.index:\n",
    "    if in_df.loc[x, \"category_id\"] >30:\n",
    "        in_df.loc[x, \"category_id\"] = 31\n",
    "        \n",
    "for x in in_df.index:\n",
    "    if in_df.loc[x, \"category_id\"] <1:\n",
    "        in_df.loc[x, \"category_id\"] = 1"
   ]
  },
  {
   "cell_type": "code",
   "execution_count": 30,
   "id": "f564d463",
   "metadata": {},
   "outputs": [],
   "source": [
    "inj = pd.read_json('E:\\\\GUVI\\\\ASSIGNMENTS\\\\assignment 3\\\\data sets\\\\json\\\\IN_category_id.json')\n",
    "inj['category_id']=np.arange(1,32)"
   ]
  },
  {
   "cell_type": "code",
   "execution_count": 31,
   "id": "99ccc44e",
   "metadata": {},
   "outputs": [],
   "source": [
    "f5 = in_df.merge(inj,on='category_id',how='outer')"
   ]
  },
  {
   "cell_type": "code",
   "execution_count": 32,
   "id": "3e61932a",
   "metadata": {},
   "outputs": [],
   "source": [
    "jp_df = pd.read_csv(\"E:\\\\GUVI\\\\ASSIGNMENTS\\\\assignment 3\\\\data sets\\\\Extracted\\\\JPvideos.csv\",encoding='latin-1')"
   ]
  },
  {
   "cell_type": "code",
   "execution_count": 33,
   "id": "dccaa28a",
   "metadata": {},
   "outputs": [],
   "source": [
    "for x in jp_df.index:\n",
    "    if jp_df.loc[x, \"category_id\"] >30:\n",
    "        jp_df.loc[x, \"category_id\"] = 31\n",
    "        \n",
    "for x in jp_df.index:\n",
    "    if jp_df.loc[x, \"category_id\"] <1:\n",
    "        jp_df.loc[x, \"category_id\"] = 1"
   ]
  },
  {
   "cell_type": "code",
   "execution_count": 34,
   "id": "054602a2",
   "metadata": {},
   "outputs": [],
   "source": [
    "jpj = pd.read_json('E:\\\\GUVI\\\\ASSIGNMENTS\\\\assignment 3\\\\data sets\\\\json\\\\JP_category_id.json')\n",
    "jpj['category_id']=np.arange(1,32)"
   ]
  },
  {
   "cell_type": "code",
   "execution_count": 161,
   "id": "ba3a0e75",
   "metadata": {},
   "outputs": [],
   "source": [
    "f6 = jp_df.merge(jpj,on='category_id',how='outer')"
   ]
  },
  {
   "cell_type": "code",
   "execution_count": 36,
   "id": "348a48bb",
   "metadata": {},
   "outputs": [],
   "source": [
    "kr_df = pd.read_csv(\"E:\\\\GUVI\\\\ASSIGNMENTS\\\\assignment 3\\\\data sets\\\\Extracted\\\\KRvideos.csv\",encoding='latin-1')\n",
    "\n",
    "for x in kr_df.index:\n",
    "    if kr_df.loc[x, \"category_id\"] >30:\n",
    "        kr_df.loc[x, \"category_id\"] = 31\n",
    "        \n",
    "for x in kr_df.index:\n",
    "    if kr_df.loc[x, \"category_id\"] <1:\n",
    "        kr_df.loc[x, \"category_id\"] = 1"
   ]
  },
  {
   "cell_type": "code",
   "execution_count": 37,
   "id": "c7fb3d78",
   "metadata": {},
   "outputs": [],
   "source": [
    "krj  = pd.read_json('E:\\\\GUVI\\\\ASSIGNMENTS\\\\assignment 3\\\\data sets\\\\json\\\\KR_category_id.json')\n",
    "krj['category_id']=np.arange(1,32)"
   ]
  },
  {
   "cell_type": "code",
   "execution_count": 38,
   "id": "08e35b0f",
   "metadata": {},
   "outputs": [],
   "source": [
    "f7 = kr_df.merge(krj,on='category_id',how='outer')"
   ]
  },
  {
   "cell_type": "code",
   "execution_count": 39,
   "id": "297aafc1",
   "metadata": {},
   "outputs": [],
   "source": [
    "mx_df = pd.read_csv(\"E:\\\\GUVI\\\\ASSIGNMENTS\\\\assignment 3\\\\data sets\\\\Extracted\\\\MXvideos.csv\",encoding='latin-1')\n",
    "for x in mx_df.index:\n",
    "    if mx_df.loc[x, \"category_id\"] >30:\n",
    "        mx_df.loc[x, \"category_id\"] = 31\n",
    "        \n",
    "for x in mx_df.index:\n",
    "    if mx_df.loc[x, \"category_id\"] <1:\n",
    "        mx_df.loc[x, \"category_id\"] = 1"
   ]
  },
  {
   "cell_type": "code",
   "execution_count": 40,
   "id": "8f8137f7",
   "metadata": {},
   "outputs": [],
   "source": [
    "mxj = pd.read_json('E:\\\\GUVI\\\\ASSIGNMENTS\\\\assignment 3\\\\data sets\\\\json\\\\MX_category_id.json')\n",
    "mxj['category_id']=np.arange(1,32)"
   ]
  },
  {
   "cell_type": "code",
   "execution_count": 41,
   "id": "64d353a9",
   "metadata": {},
   "outputs": [],
   "source": [
    "f8 = mx_df.merge(mxj,on='category_id',how='outer')"
   ]
  },
  {
   "cell_type": "code",
   "execution_count": 42,
   "id": "2b2fe69a",
   "metadata": {},
   "outputs": [],
   "source": [
    "ru_df = pd.read_csv(\"E:\\\\GUVI\\\\ASSIGNMENTS\\\\assignment 3\\\\data sets\\\\Extracted\\\\RUvideos.csv\",encoding='latin-1')\n",
    "\n",
    "for x in ru_df.index:\n",
    "    if ru_df.loc[x, \"category_id\"] >30:\n",
    "        ru_df.loc[x, \"category_id\"] = 31\n",
    "        \n",
    "for x in ru_df.index:\n",
    "    if ru_df.loc[x, \"category_id\"] <1:\n",
    "        ru_df.loc[x, \"category_id\"] = 1"
   ]
  },
  {
   "cell_type": "code",
   "execution_count": 43,
   "id": "70d4469d",
   "metadata": {},
   "outputs": [],
   "source": [
    "ruj = pd.read_json('E:\\\\GUVI\\\\ASSIGNMENTS\\\\assignment 3\\\\data sets\\\\json\\\\RU_category_id.json')\n",
    "ruj['category_id']=np.arange(1,32)"
   ]
  },
  {
   "cell_type": "code",
   "execution_count": 44,
   "id": "74b8cdcb",
   "metadata": {},
   "outputs": [],
   "source": [
    "f9 = ru_df.merge(ruj,on='category_id',how='outer')"
   ]
  },
  {
   "cell_type": "code",
   "execution_count": 45,
   "id": "882765f5",
   "metadata": {},
   "outputs": [],
   "source": [
    "us_df = pd.read_csv(\"E:\\\\GUVI\\\\ASSIGNMENTS\\\\assignment 3\\\\data sets\\\\Extracted\\\\USvideos.csv\")\n",
    "for x in ru_df.index:\n",
    "    if ru_df.loc[x, \"category_id\"] >31:\n",
    "        ru_df.loc[x, \"category_id\"] = 32\n",
    "        \n",
    "for x in ru_df.index:\n",
    "    if ru_df.loc[x, \"category_id\"] <1:\n",
    "        ru_df.loc[x, \"category_id\"] = 1"
   ]
  },
  {
   "cell_type": "code",
   "execution_count": 46,
   "id": "815553b0",
   "metadata": {},
   "outputs": [],
   "source": [
    "usj = pd.read_json('E:\\\\GUVI\\\\ASSIGNMENTS\\\\assignment 3\\\\data sets\\\\json\\\\US_category_id.json')\n",
    "usj['category_id']=np.arange(1,33)"
   ]
  },
  {
   "cell_type": "code",
   "execution_count": 47,
   "id": "d19c5fff",
   "metadata": {},
   "outputs": [],
   "source": [
    "f10 = us_df.merge(usj,on='category_id',how='outer')"
   ]
  },
  {
   "cell_type": "code",
   "execution_count": 145,
   "id": "425e5919",
   "metadata": {},
   "outputs": [],
   "source": [
    "frames = [f1,f2,f3,f4,f5,f6,f7,f8,f9,f10] # merging all dataframes\n",
    "df = pd.concat(frames)"
   ]
  },
  {
   "cell_type": "code",
   "execution_count": 146,
   "id": "db694869",
   "metadata": {},
   "outputs": [],
   "source": [
    "del df['video_error_or_removed'] #removing unwanted columns"
   ]
  },
  {
   "cell_type": "code",
   "execution_count": 147,
   "id": "da7d989c",
   "metadata": {},
   "outputs": [],
   "source": [
    "del df['description'] #removing unwanted columns"
   ]
  },
  {
   "cell_type": "code",
   "execution_count": 148,
   "id": "c0ee3e76",
   "metadata": {},
   "outputs": [],
   "source": [
    "del df['tags'] #removing unwanted columns"
   ]
  },
  {
   "cell_type": "code",
   "execution_count": 149,
   "id": "706bf947",
   "metadata": {},
   "outputs": [],
   "source": [
    "del df['thumbnail_link'] #removing unwanted columns"
   ]
  },
  {
   "cell_type": "code",
   "execution_count": 150,
   "id": "92dc17b7",
   "metadata": {},
   "outputs": [],
   "source": [
    "del df['comments_disabled'] #removing unwanted columns"
   ]
  },
  {
   "cell_type": "code",
   "execution_count": 151,
   "id": "8b9a7c25",
   "metadata": {},
   "outputs": [],
   "source": [
    "del df['ratings_disabled'] #removing unwanted columns"
   ]
  },
  {
   "cell_type": "code",
   "execution_count": 152,
   "id": "2a51770d",
   "metadata": {},
   "outputs": [],
   "source": [
    "del df['etag'] #removing unwanted columns"
   ]
  },
  {
   "cell_type": "code",
   "execution_count": 153,
   "id": "52a57583",
   "metadata": {},
   "outputs": [],
   "source": [
    "del df['items'] #removing unwanted columns"
   ]
  },
  {
   "cell_type": "code",
   "execution_count": 154,
   "id": "55086fb8",
   "metadata": {},
   "outputs": [
    {
     "data": {
      "text/html": [
       "<div>\n",
       "<style scoped>\n",
       "    .dataframe tbody tr th:only-of-type {\n",
       "        vertical-align: middle;\n",
       "    }\n",
       "\n",
       "    .dataframe tbody tr th {\n",
       "        vertical-align: top;\n",
       "    }\n",
       "\n",
       "    .dataframe thead th {\n",
       "        text-align: right;\n",
       "    }\n",
       "</style>\n",
       "<table border=\"1\" class=\"dataframe\">\n",
       "  <thead>\n",
       "    <tr style=\"text-align: right;\">\n",
       "      <th></th>\n",
       "      <th>video_id</th>\n",
       "      <th>trending_date</th>\n",
       "      <th>title</th>\n",
       "      <th>channel_title</th>\n",
       "      <th>category_id</th>\n",
       "      <th>publish_time</th>\n",
       "      <th>views</th>\n",
       "      <th>likes</th>\n",
       "      <th>dislikes</th>\n",
       "      <th>comment_count</th>\n",
       "      <th>kind</th>\n",
       "    </tr>\n",
       "  </thead>\n",
       "  <tbody>\n",
       "    <tr>\n",
       "      <th>0</th>\n",
       "      <td>n1WpP7iowLc</td>\n",
       "      <td>17.14.11</td>\n",
       "      <td>Eminem - Walk On Water (Audio) ft. Beyoncé</td>\n",
       "      <td>EminemVEVO</td>\n",
       "      <td>10</td>\n",
       "      <td>2017-11-10T17:00:03.000Z</td>\n",
       "      <td>17158579.0</td>\n",
       "      <td>787425.0</td>\n",
       "      <td>43420.0</td>\n",
       "      <td>125882.0</td>\n",
       "      <td>youtube#videoCategoryListResponse</td>\n",
       "    </tr>\n",
       "  </tbody>\n",
       "</table>\n",
       "</div>"
      ],
      "text/plain": [
       "      video_id trending_date                                       title  \\\n",
       "0  n1WpP7iowLc      17.14.11  Eminem - Walk On Water (Audio) ft. Beyoncé   \n",
       "\n",
       "  channel_title  category_id              publish_time       views     likes  \\\n",
       "0    EminemVEVO           10  2017-11-10T17:00:03.000Z  17158579.0  787425.0   \n",
       "\n",
       "   dislikes  comment_count                               kind  \n",
       "0   43420.0       125882.0  youtube#videoCategoryListResponse  "
      ]
     },
     "execution_count": 154,
     "metadata": {},
     "output_type": "execute_result"
    }
   ],
   "source": [
    "df.head(1)"
   ]
  },
  {
   "cell_type": "code",
   "execution_count": 155,
   "id": "bfcb9ddc",
   "metadata": {},
   "outputs": [],
   "source": [
    "df = df.dropna() #dropping the nan rows "
   ]
  },
  {
   "cell_type": "code",
   "execution_count": 156,
   "id": "7c0fc344",
   "metadata": {
    "scrolled": true
   },
   "outputs": [
    {
     "data": {
      "text/html": [
       "<div>\n",
       "<style scoped>\n",
       "    .dataframe tbody tr th:only-of-type {\n",
       "        vertical-align: middle;\n",
       "    }\n",
       "\n",
       "    .dataframe tbody tr th {\n",
       "        vertical-align: top;\n",
       "    }\n",
       "\n",
       "    .dataframe thead th {\n",
       "        text-align: right;\n",
       "    }\n",
       "</style>\n",
       "<table border=\"1\" class=\"dataframe\">\n",
       "  <thead>\n",
       "    <tr style=\"text-align: right;\">\n",
       "      <th></th>\n",
       "      <th>video_id</th>\n",
       "      <th>trending_date</th>\n",
       "      <th>title</th>\n",
       "      <th>channel_title</th>\n",
       "      <th>category_id</th>\n",
       "      <th>publish_time</th>\n",
       "      <th>views</th>\n",
       "      <th>likes</th>\n",
       "      <th>dislikes</th>\n",
       "      <th>comment_count</th>\n",
       "      <th>kind</th>\n",
       "    </tr>\n",
       "  </thead>\n",
       "  <tbody>\n",
       "    <tr>\n",
       "      <th>0</th>\n",
       "      <td>n1WpP7iowLc</td>\n",
       "      <td>17.14.11</td>\n",
       "      <td>Eminem - Walk On Water (Audio) ft. Beyoncé</td>\n",
       "      <td>EminemVEVO</td>\n",
       "      <td>10</td>\n",
       "      <td>2017-11-10T17:00:03.000Z</td>\n",
       "      <td>17158579.0</td>\n",
       "      <td>787425.0</td>\n",
       "      <td>43420.0</td>\n",
       "      <td>125882.0</td>\n",
       "      <td>youtube#videoCategoryListResponse</td>\n",
       "    </tr>\n",
       "    <tr>\n",
       "      <th>1</th>\n",
       "      <td>2Vv-BfVoq4g</td>\n",
       "      <td>17.14.11</td>\n",
       "      <td>Ed Sheeran - Perfect (Official Music Video)</td>\n",
       "      <td>Ed Sheeran</td>\n",
       "      <td>10</td>\n",
       "      <td>2017-11-09T11:04:14.000Z</td>\n",
       "      <td>33523622.0</td>\n",
       "      <td>1634130.0</td>\n",
       "      <td>21082.0</td>\n",
       "      <td>85067.0</td>\n",
       "      <td>youtube#videoCategoryListResponse</td>\n",
       "    </tr>\n",
       "    <tr>\n",
       "      <th>2</th>\n",
       "      <td>H1KBHFXm2Bg</td>\n",
       "      <td>17.14.11</td>\n",
       "      <td>21 Savage - Bank Account (Official Music Video)</td>\n",
       "      <td>21 Savage</td>\n",
       "      <td>10</td>\n",
       "      <td>2017-11-10T19:00:02.000Z</td>\n",
       "      <td>5068229.0</td>\n",
       "      <td>263596.0</td>\n",
       "      <td>8585.0</td>\n",
       "      <td>28976.0</td>\n",
       "      <td>youtube#videoCategoryListResponse</td>\n",
       "    </tr>\n",
       "    <tr>\n",
       "      <th>3</th>\n",
       "      <td>7MxiQ4v0EnE</td>\n",
       "      <td>17.14.11</td>\n",
       "      <td>Daang ( Full Video ) | Mankirt Aulakh | Sukh S...</td>\n",
       "      <td>Speed Records</td>\n",
       "      <td>10</td>\n",
       "      <td>2017-11-11T16:41:15.000Z</td>\n",
       "      <td>5718766.0</td>\n",
       "      <td>127477.0</td>\n",
       "      <td>7134.0</td>\n",
       "      <td>8063.0</td>\n",
       "      <td>youtube#videoCategoryListResponse</td>\n",
       "    </tr>\n",
       "    <tr>\n",
       "      <th>4</th>\n",
       "      <td>j67FgNEvyh8</td>\n",
       "      <td>17.14.11</td>\n",
       "      <td>Telefoon || Babbu Maan || Promo || Full Song 1...</td>\n",
       "      <td>Hey Yolo</td>\n",
       "      <td>10</td>\n",
       "      <td>2017-11-12T04:24:34.000Z</td>\n",
       "      <td>178447.0</td>\n",
       "      <td>4339.0</td>\n",
       "      <td>96.0</td>\n",
       "      <td>876.0</td>\n",
       "      <td>youtube#videoCategoryListResponse</td>\n",
       "    </tr>\n",
       "    <tr>\n",
       "      <th>...</th>\n",
       "      <td>...</td>\n",
       "      <td>...</td>\n",
       "      <td>...</td>\n",
       "      <td>...</td>\n",
       "      <td>...</td>\n",
       "      <td>...</td>\n",
       "      <td>...</td>\n",
       "      <td>...</td>\n",
       "      <td>...</td>\n",
       "      <td>...</td>\n",
       "      <td>...</td>\n",
       "    </tr>\n",
       "    <tr>\n",
       "      <th>40887</th>\n",
       "      <td>pwGbwYAfSmg</td>\n",
       "      <td>18.31.05</td>\n",
       "      <td>5 books worth reading this summer</td>\n",
       "      <td>Bill Gates</td>\n",
       "      <td>29</td>\n",
       "      <td>2018-05-21T13:30:33.000Z</td>\n",
       "      <td>313587.0</td>\n",
       "      <td>10374.0</td>\n",
       "      <td>150.0</td>\n",
       "      <td>604.0</td>\n",
       "      <td>youtube#videoCategoryListResponse</td>\n",
       "    </tr>\n",
       "    <tr>\n",
       "      <th>40888</th>\n",
       "      <td>pwGbwYAfSmg</td>\n",
       "      <td>18.01.06</td>\n",
       "      <td>5 books worth reading this summer</td>\n",
       "      <td>Bill Gates</td>\n",
       "      <td>29</td>\n",
       "      <td>2018-05-21T13:30:33.000Z</td>\n",
       "      <td>316467.0</td>\n",
       "      <td>10434.0</td>\n",
       "      <td>150.0</td>\n",
       "      <td>604.0</td>\n",
       "      <td>youtube#videoCategoryListResponse</td>\n",
       "    </tr>\n",
       "    <tr>\n",
       "      <th>40889</th>\n",
       "      <td>pwGbwYAfSmg</td>\n",
       "      <td>18.02.06</td>\n",
       "      <td>5 books worth reading this summer</td>\n",
       "      <td>Bill Gates</td>\n",
       "      <td>29</td>\n",
       "      <td>2018-05-21T13:30:33.000Z</td>\n",
       "      <td>320924.0</td>\n",
       "      <td>10582.0</td>\n",
       "      <td>155.0</td>\n",
       "      <td>611.0</td>\n",
       "      <td>youtube#videoCategoryListResponse</td>\n",
       "    </tr>\n",
       "    <tr>\n",
       "      <th>40890</th>\n",
       "      <td>pwGbwYAfSmg</td>\n",
       "      <td>18.03.06</td>\n",
       "      <td>5 books worth reading this summer</td>\n",
       "      <td>Bill Gates</td>\n",
       "      <td>29</td>\n",
       "      <td>2018-05-21T13:30:33.000Z</td>\n",
       "      <td>326502.0</td>\n",
       "      <td>10720.0</td>\n",
       "      <td>158.0</td>\n",
       "      <td>612.0</td>\n",
       "      <td>youtube#videoCategoryListResponse</td>\n",
       "    </tr>\n",
       "    <tr>\n",
       "      <th>40891</th>\n",
       "      <td>pwGbwYAfSmg</td>\n",
       "      <td>18.04.06</td>\n",
       "      <td>5 books worth reading this summer</td>\n",
       "      <td>Bill Gates</td>\n",
       "      <td>29</td>\n",
       "      <td>2018-05-21T13:30:33.000Z</td>\n",
       "      <td>333587.0</td>\n",
       "      <td>10918.0</td>\n",
       "      <td>161.0</td>\n",
       "      <td>613.0</td>\n",
       "      <td>youtube#videoCategoryListResponse</td>\n",
       "    </tr>\n",
       "  </tbody>\n",
       "</table>\n",
       "<p>375885 rows × 11 columns</p>\n",
       "</div>"
      ],
      "text/plain": [
       "          video_id trending_date  \\\n",
       "0      n1WpP7iowLc      17.14.11   \n",
       "1      2Vv-BfVoq4g      17.14.11   \n",
       "2      H1KBHFXm2Bg      17.14.11   \n",
       "3      7MxiQ4v0EnE      17.14.11   \n",
       "4      j67FgNEvyh8      17.14.11   \n",
       "...            ...           ...   \n",
       "40887  pwGbwYAfSmg      18.31.05   \n",
       "40888  pwGbwYAfSmg      18.01.06   \n",
       "40889  pwGbwYAfSmg      18.02.06   \n",
       "40890  pwGbwYAfSmg      18.03.06   \n",
       "40891  pwGbwYAfSmg      18.04.06   \n",
       "\n",
       "                                                   title  channel_title  \\\n",
       "0             Eminem - Walk On Water (Audio) ft. Beyoncé     EminemVEVO   \n",
       "1            Ed Sheeran - Perfect (Official Music Video)     Ed Sheeran   \n",
       "2        21 Savage - Bank Account (Official Music Video)      21 Savage   \n",
       "3      Daang ( Full Video ) | Mankirt Aulakh | Sukh S...  Speed Records   \n",
       "4      Telefoon || Babbu Maan || Promo || Full Song 1...       Hey Yolo   \n",
       "...                                                  ...            ...   \n",
       "40887                  5 books worth reading this summer     Bill Gates   \n",
       "40888                  5 books worth reading this summer     Bill Gates   \n",
       "40889                  5 books worth reading this summer     Bill Gates   \n",
       "40890                  5 books worth reading this summer     Bill Gates   \n",
       "40891                  5 books worth reading this summer     Bill Gates   \n",
       "\n",
       "       category_id              publish_time       views      likes  dislikes  \\\n",
       "0               10  2017-11-10T17:00:03.000Z  17158579.0   787425.0   43420.0   \n",
       "1               10  2017-11-09T11:04:14.000Z  33523622.0  1634130.0   21082.0   \n",
       "2               10  2017-11-10T19:00:02.000Z   5068229.0   263596.0    8585.0   \n",
       "3               10  2017-11-11T16:41:15.000Z   5718766.0   127477.0    7134.0   \n",
       "4               10  2017-11-12T04:24:34.000Z    178447.0     4339.0      96.0   \n",
       "...            ...                       ...         ...        ...       ...   \n",
       "40887           29  2018-05-21T13:30:33.000Z    313587.0    10374.0     150.0   \n",
       "40888           29  2018-05-21T13:30:33.000Z    316467.0    10434.0     150.0   \n",
       "40889           29  2018-05-21T13:30:33.000Z    320924.0    10582.0     155.0   \n",
       "40890           29  2018-05-21T13:30:33.000Z    326502.0    10720.0     158.0   \n",
       "40891           29  2018-05-21T13:30:33.000Z    333587.0    10918.0     161.0   \n",
       "\n",
       "       comment_count                               kind  \n",
       "0           125882.0  youtube#videoCategoryListResponse  \n",
       "1            85067.0  youtube#videoCategoryListResponse  \n",
       "2            28976.0  youtube#videoCategoryListResponse  \n",
       "3             8063.0  youtube#videoCategoryListResponse  \n",
       "4              876.0  youtube#videoCategoryListResponse  \n",
       "...              ...                                ...  \n",
       "40887          604.0  youtube#videoCategoryListResponse  \n",
       "40888          604.0  youtube#videoCategoryListResponse  \n",
       "40889          611.0  youtube#videoCategoryListResponse  \n",
       "40890          612.0  youtube#videoCategoryListResponse  \n",
       "40891          613.0  youtube#videoCategoryListResponse  \n",
       "\n",
       "[375885 rows x 11 columns]"
      ]
     },
     "execution_count": 156,
     "metadata": {},
     "output_type": "execute_result"
    }
   ],
   "source": [
    "k = df  #dataframe with the data containg all the regions , data cleaned in required manner\n",
    "k"
   ]
  },
  {
   "cell_type": "code",
   "execution_count": 58,
   "id": "784b158c",
   "metadata": {},
   "outputs": [
    {
     "name": "stdout",
     "output_type": "stream",
     "text": [
      "Requirement already satisfied: mysql-connector-python in c:\\python\\lib\\site-packages (8.0.30)\n",
      "Requirement already satisfied: protobuf<=3.20.1,>=3.11.0 in c:\\python\\lib\\site-packages (from mysql-connector-python) (3.20.1)\n"
     ]
    }
   ],
   "source": [
    "!pip install mysql-connector-python "
   ]
  },
  {
   "cell_type": "code",
   "execution_count": 59,
   "id": "ffbb4e1a",
   "metadata": {},
   "outputs": [],
   "source": [
    "import mysql.connector"
   ]
  },
  {
   "cell_type": "code",
   "execution_count": 71,
   "id": "617c95ee",
   "metadata": {},
   "outputs": [],
   "source": [
    "import sqlalchemy\n",
    "import pymysql"
   ]
  },
  {
   "cell_type": "code",
   "execution_count": 74,
   "id": "d31371ef",
   "metadata": {},
   "outputs": [],
   "source": [
    "engine = sqlalchemy.create_engine(\"mysql+pymysql://root:@localhost:3306/task3\")"
   ]
  },
  {
   "cell_type": "code",
   "execution_count": 60,
   "id": "95768c2d",
   "metadata": {},
   "outputs": [
    {
     "name": "stdout",
     "output_type": "stream",
     "text": [
      "<mysql.connector.connection_cext.CMySQLConnection object at 0x0000022B1F4B9990>\n"
     ]
    }
   ],
   "source": [
    "db=mysql.connector.connect(\n",
    "    host=\"localhost\",\n",
    "    user=\"root\",\n",
    "    password=\"\"\n",
    ")\n",
    "print(db)\n",
    "abc=db.cursor(buffered=True)"
   ]
  },
  {
   "cell_type": "code",
   "execution_count": null,
   "id": "101106bc",
   "metadata": {},
   "outputs": [],
   "source": [
    "abc.execute('show databases')\n",
    "for s in abc:\n",
    "    print(s)"
   ]
  },
  {
   "cell_type": "code",
   "execution_count": 64,
   "id": "872eabd7",
   "metadata": {},
   "outputs": [],
   "source": [
    "abc.execute('create database task3')"
   ]
  },
  {
   "cell_type": "code",
   "execution_count": 157,
   "id": "957401bf",
   "metadata": {},
   "outputs": [],
   "source": [
    "abc.execute('use task3')\n",
    "abc.execute('drop table youtube_video_stats')"
   ]
  },
  {
   "cell_type": "code",
   "execution_count": 158,
   "id": "97ffdc2e",
   "metadata": {},
   "outputs": [],
   "source": [
    "abc.execute(\"create table youtube_video_stats(video_id text, trending_date date,title text,channel_title text,\\\n",
    "category_id int(5),publish_time varchar(30),views int,likes int,dislikes int,comment_count int,kind text)\")"
   ]
  },
  {
   "cell_type": "code",
   "execution_count": 105,
   "id": "25aec95e",
   "metadata": {},
   "outputs": [
    {
     "data": {
      "text/html": [
       "<div>\n",
       "<style scoped>\n",
       "    .dataframe tbody tr th:only-of-type {\n",
       "        vertical-align: middle;\n",
       "    }\n",
       "\n",
       "    .dataframe tbody tr th {\n",
       "        vertical-align: top;\n",
       "    }\n",
       "\n",
       "    .dataframe thead th {\n",
       "        text-align: right;\n",
       "    }\n",
       "</style>\n",
       "<table border=\"1\" class=\"dataframe\">\n",
       "  <thead>\n",
       "    <tr style=\"text-align: right;\">\n",
       "      <th></th>\n",
       "      <th>video_id</th>\n",
       "      <th>trending_date</th>\n",
       "      <th>title</th>\n",
       "      <th>channel_title</th>\n",
       "      <th>category_id</th>\n",
       "      <th>publish_time</th>\n",
       "      <th>views</th>\n",
       "      <th>likes</th>\n",
       "      <th>dislikes</th>\n",
       "      <th>comment_count</th>\n",
       "    </tr>\n",
       "  </thead>\n",
       "  <tbody>\n",
       "    <tr>\n",
       "      <th>0</th>\n",
       "      <td>n1WpP7iowLc</td>\n",
       "      <td>17.14.11</td>\n",
       "      <td>Eminem - Walk On Water (Audio) ft. Beyoncé</td>\n",
       "      <td>EminemVEVO</td>\n",
       "      <td>10</td>\n",
       "      <td>2017-11-10T17:00:03.000Z</td>\n",
       "      <td>17158579.0</td>\n",
       "      <td>787425.0</td>\n",
       "      <td>43420.0</td>\n",
       "      <td>125882.0</td>\n",
       "    </tr>\n",
       "  </tbody>\n",
       "</table>\n",
       "</div>"
      ],
      "text/plain": [
       "      video_id trending_date                                       title  \\\n",
       "0  n1WpP7iowLc      17.14.11  Eminem - Walk On Water (Audio) ft. Beyoncé   \n",
       "\n",
       "  channel_title  category_id              publish_time       views     likes  \\\n",
       "0    EminemVEVO           10  2017-11-10T17:00:03.000Z  17158579.0  787425.0   \n",
       "\n",
       "   dislikes  comment_count  \n",
       "0   43420.0       125882.0  "
      ]
     },
     "execution_count": 105,
     "metadata": {},
     "output_type": "execute_result"
    }
   ],
   "source": [
    "df.head(1)"
   ]
  },
  {
   "cell_type": "code",
   "execution_count": 159,
   "id": "9031ccc7",
   "metadata": {
    "scrolled": false
   },
   "outputs": [
    {
     "data": {
      "text/plain": [
       "375885"
      ]
     },
     "execution_count": 159,
     "metadata": {},
     "output_type": "execute_result"
    }
   ],
   "source": [
    "k.to_sql('youtube_video_stats',con = engine, if_exists = 'append',index = False)"
   ]
  },
  {
   "cell_type": "code",
   "execution_count": 160,
   "id": "44ed6333",
   "metadata": {},
   "outputs": [],
   "source": [
    "abc.execute('commit')"
   ]
  },
  {
   "cell_type": "code",
   "execution_count": null,
   "id": "ca711f8c",
   "metadata": {},
   "outputs": [],
   "source": []
  }
 ],
 "metadata": {
  "kernelspec": {
   "display_name": "Python 3 (ipykernel)",
   "language": "python",
   "name": "python3"
  },
  "language_info": {
   "codemirror_mode": {
    "name": "ipython",
    "version": 3
   },
   "file_extension": ".py",
   "mimetype": "text/x-python",
   "name": "python",
   "nbconvert_exporter": "python",
   "pygments_lexer": "ipython3",
   "version": "3.10.6"
  }
 },
 "nbformat": 4,
 "nbformat_minor": 5
}
